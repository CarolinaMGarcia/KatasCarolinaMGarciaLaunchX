{
 "cells": [
  {
   "cell_type": "markdown",
   "metadata": {},
   "source": [
    "## Ejercicio: Uso de funciones en Python\n"
   ]
  },
  {
   "cell_type": "code",
   "execution_count": null,
   "metadata": {},
   "outputs": [],
   "source": [
    "#Ejercicio 1: Trabajar con argumentos en funciones\n"
   ]
  },
  {
   "cell_type": "code",
   "execution_count": 2,
   "metadata": {},
   "outputs": [
    {
     "name": "stdout",
     "output_type": "stream",
     "text": [
      "4.0\n"
     ]
    }
   ],
   "source": [
    "def cohete(dato_1, dato2, dato3):\n",
    "    return ((dato_1 + dato2 + dato3) / 3)\n",
    "\n",
    "\n",
    "def promedio(dato_1, dato2, dato3):\n",
    "    return cohete(dato_1, dato2, dato3)\n",
    "\n",
    "\n",
    "print(promedio(5,3,4))"
   ]
  },
  {
   "cell_type": "markdown",
   "metadata": {},
   "source": [
    "## Ejercicio 2: Trabajo con argumentos de palabra clave"
   ]
  },
  {
   "cell_type": "code",
   "execution_count": 6,
   "metadata": {},
   "outputs": [
    {
     "name": "stdout",
     "output_type": "stream",
     "text": [
      "la hora de prelanzamiento es:  80 tiempo de vuelo 5 destino 10 tanque externo 11 tanque interno 12\n",
      "None\n",
      "\n",
      "    Mission to Moon\n",
      "    tiempo_total_viaje: 74 minutos\n",
      "    Total: 500000\n",
      "    main tanque --> 300000 galones left\n",
      "external tanque --> 200000 galones left\n",
      "\n"
     ]
    }
   ],
   "source": [
    "def mision(hora_pre,tiempo_vuelo,destino,tanque_externo,tanque_interno):\n",
    "    return print(\"la hora de prelanzamiento es: \",hora_pre,\"tiempo de vuelo\",tiempo_vuelo,\"destino\",destino, \"tanque externo\",tanque_externo, \"tanque interno\",tanque_interno)\n",
    "\n",
    "print(mision(80,5,10,11,12))\n",
    "\n",
    "\n",
    "def reporte_mision(destino, *minutos, **tanque_capacidad):\n",
    "    principal_reporte = f\"\"\"\n",
    "    Mission to {destino}\n",
    "    tiempo_total_viaje: {sum(minutos)} minutos\n",
    "    Total: {sum(tanque_capacidad.values())}\n",
    "    \"\"\"\n",
    "    for tanque, galones in tanque_capacidad.items():\n",
    "        principal_reporte += f\"{tanque} tanque --> {galones} galones left\\n\"\n",
    "    return principal_reporte\n",
    "\n",
    "print(reporte_mision(\"Moon\", 8, 11, 55, main=300000, external=200000))"
   ]
  }
 ],
 "metadata": {
  "interpreter": {
   "hash": "e72130224f623da034c09a91a21ea4165cde1a798f1187b643c7852d74372b32"
  },
  "kernelspec": {
   "display_name": "Python 3.10.2 64-bit",
   "language": "python",
   "name": "python3"
  },
  "language_info": {
   "codemirror_mode": {
    "name": "ipython",
    "version": 3
   },
   "file_extension": ".py",
   "mimetype": "text/x-python",
   "name": "python",
   "nbconvert_exporter": "python",
   "pygments_lexer": "ipython3",
   "version": "3.10.2"
  },
  "orig_nbformat": 4
 },
 "nbformat": 4,
 "nbformat_minor": 2
}
