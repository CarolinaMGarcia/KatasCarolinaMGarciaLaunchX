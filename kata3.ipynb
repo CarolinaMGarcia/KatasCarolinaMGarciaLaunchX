{
 "cells": [
  {
   "cell_type": "code",
   "execution_count": null,
   "metadata": {},
   "outputs": [],
   "source": []
  },
  {
   "cell_type": "markdown",
   "metadata": {},
   "source": [
    "## Escribir declaraciones if, else y elif\n",
    "Para este ejercicio, escribirás una lógica condicional que imprima una advertencia si un asteroide se acerca a la Tierra demasiado rápido. La velocidad del asteroide varía dependiendo de lo cerca que esté del sol, y cualquier velocidad superior a 25 kilómetros por segundo (km/s) merece una advertencia."
   ]
  },
  {
   "cell_type": "code",
   "execution_count": 2,
   "metadata": {},
   "outputs": [
    {
     "name": "stdout",
     "output_type": "stream",
     "text": [
      "Todo se encuentra bien\n"
     ]
    }
   ],
   "source": [
    "velocidad = 15\n",
    "\n",
    "if velocidad > 25:\n",
    "    print(\"Alerta un asteroide se acerca demasiado rapido  a la tierra\")\n",
    "else: \n",
    "    print(\"Todo se encuentra bien\")    \n"
   ]
  },
  {
   "cell_type": "code",
   "execution_count": 7,
   "metadata": {},
   "outputs": [
    {
     "name": "stdout",
     "output_type": "stream",
     "text": [
      "Alerta un asteroide se acerca demasiado rapido a la tierra\n"
     ]
    }
   ],
   "source": [
    "velocidad_asteroide = 30\n",
    "\n",
    "if velocidad_asteroide > 25:\n",
    "    print(\"Alerta un asteroide se acerca demasiado rapido a la tierra\")\n",
    "\n",
    "elif velocidad_asteroide >= 20 and velocidad_asteroide < 25 :\n",
    "    print(\"Atencion deben buscar un asteroide en la tierra\")\n",
    "\n",
    "else:\n",
    "    print(\"Todo se encuentra bien\")\n",
    "\n"
   ]
  },
  {
   "cell_type": "markdown",
   "metadata": {},
   "source": [
    "## uso de operadores and y or\n"
   ]
  },
  {
   "cell_type": "code",
   "execution_count": 6,
   "metadata": {},
   "outputs": [
    {
     "name": "stdout",
     "output_type": "stream",
     "text": [
      "Todo se encuentra bien\n"
     ]
    }
   ],
   "source": [
    "velocidad_asteroide = 25\n",
    "medida_asteroide = 40\n",
    "\n",
    "if (velocidad_asteroide > 25) and (medida_asteroide < 25):\n",
    "    print(\"Alerta un asteroide se acerca demasiado rapido a la tierra\")\n",
    "\n",
    "elif (velocidad_asteroide > 25) and (medida_asteroide > 25 or medida_asteroide <=1000):\n",
    "    print (\"se acercaba un asteroide rapido pero por el tamaño de sus medidas se quemo\")\n",
    "\n",
    "elif velocidad_asteroide >= 20 and velocidad_asteroide < 25:\n",
    "    print(\"Atencion deben buscar un asteroide en la tierra\")\n",
    "\n",
    "\n",
    "else:\n",
    "    print(\"Todo se encuentra bien\")\n",
    "\n",
    "\n"
   ]
  }
 ],
 "metadata": {
  "interpreter": {
   "hash": "e72130224f623da034c09a91a21ea4165cde1a798f1187b643c7852d74372b32"
  },
  "kernelspec": {
   "display_name": "Python 3.10.2 64-bit",
   "language": "python",
   "name": "python3"
  },
  "language_info": {
   "codemirror_mode": {
    "name": "ipython",
    "version": 3
   },
   "file_extension": ".py",
   "mimetype": "text/x-python",
   "name": "python",
   "nbconvert_exporter": "python",
   "pygments_lexer": "ipython3",
   "version": "3.10.2"
  },
  "orig_nbformat": 4
 },
 "nbformat": 4,
 "nbformat_minor": 2
}
