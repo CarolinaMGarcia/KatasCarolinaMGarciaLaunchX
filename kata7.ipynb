{
 "cells": [
  {
   "cell_type": "code",
   "execution_count": null,
   "metadata": {},
   "outputs": [],
   "source": []
  },
  {
   "cell_type": "markdown",
   "metadata": {},
   "source": [
    "## Ejercicio 1: Creacion de un bucle while"
   ]
  },
  {
   "cell_type": "code",
   "execution_count": 1,
   "metadata": {},
   "outputs": [],
   "source": [
    "nombre_planeta = ''\n",
    "planetas = []\n",
    "\n",
    "\n",
    "while nombre_planeta != 'finalizar':\n",
    "    if nombre_planeta:\n",
    "        planetas.append(nombre_planeta)\n",
    "    \n",
    "    nombre_planeta = input(\"ingrese un nuevo valor or escriba hecho para finalizar\")\n",
    "\n",
    "\n"
   ]
  },
  {
   "cell_type": "markdown",
   "metadata": {},
   "source": [
    "## Ejercicio 2 Creacion de un ciclo for"
   ]
  },
  {
   "cell_type": "code",
   "execution_count": 2,
   "metadata": {},
   "outputs": [
    {
     "name": "stdout",
     "output_type": "stream",
     "text": [
      "tierra\n",
      "tierra\n",
      "martes\n",
      "tierra\n",
      "martes\n",
      "jupiter\n",
      "tierra\n",
      "martes\n",
      "jupiter\n",
      "venus\n",
      "tierra\n",
      "martes\n",
      "jupiter\n",
      "venus\n",
      "done\n"
     ]
    }
   ],
   "source": [
    "nombre_planeta = ''\n",
    "planetas = []\n",
    "\n",
    "while nombre_planeta != 'finalizar':\n",
    "    if nombre_planeta:\n",
    "        planetas.append(nombre_planeta)\n",
    "    \n",
    "    nombre_planeta = input(\"ingrese un nuevo valor or escriba hecho para finalizar\")\n",
    "\n",
    "    for recorrido in planetas:\n",
    "        print(recorrido)"
   ]
  }
 ],
 "metadata": {
  "interpreter": {
   "hash": "e72130224f623da034c09a91a21ea4165cde1a798f1187b643c7852d74372b32"
  },
  "kernelspec": {
   "display_name": "Python 3.10.2 64-bit",
   "language": "python",
   "name": "python3"
  },
  "language_info": {
   "codemirror_mode": {
    "name": "ipython",
    "version": 3
   },
   "file_extension": ".py",
   "mimetype": "text/x-python",
   "name": "python",
   "nbconvert_exporter": "python",
   "pygments_lexer": "ipython3",
   "version": "3.10.2"
  },
  "orig_nbformat": 4
 },
 "nbformat": 4,
 "nbformat_minor": 2
}
