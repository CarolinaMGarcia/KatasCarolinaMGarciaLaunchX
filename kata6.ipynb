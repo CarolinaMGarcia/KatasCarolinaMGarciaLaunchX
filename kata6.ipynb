{
 "cells": [
  {
   "cell_type": "code",
   "execution_count": null,
   "metadata": {},
   "outputs": [],
   "source": []
  },
  {
   "cell_type": "markdown",
   "metadata": {},
   "source": [
    "## Ejercicio 1: crear y usar listas de python"
   ]
  },
  {
   "cell_type": "code",
   "execution_count": 5,
   "metadata": {},
   "outputs": [
    {
     "name": "stdout",
     "output_type": "stream",
     "text": [
      "9\n",
      "pluton\n"
     ]
    }
   ],
   "source": [
    "#Lista de planetas\n",
    "\n",
    "planetas = ['mercurio', 'venus','tierra','martes','jupiter','saturno','uranio','neptuno']\n",
    "\n",
    "planetas.append('pluton')\n",
    "\n",
    "numero_planetas = len(planetas)\n",
    "\n",
    "print(numero_planetas)\n",
    "\n",
    "print(planetas[8])\n"
   ]
  },
  {
   "cell_type": "markdown",
   "metadata": {},
   "source": [
    "## Ejercicio 2: Trabajando con datos de una lista"
   ]
  },
  {
   "cell_type": "code",
   "execution_count": 10,
   "metadata": {},
   "outputs": [
    {
     "name": "stdout",
     "output_type": "stream",
     "text": [
      "2\n",
      "['Mercurio', 'Venus']\n",
      "Martes\n"
     ]
    }
   ],
   "source": [
    "#planetas\n",
    "planetas = ['Mercurio', 'Venus','Tierra','Martes','Jupiter','Saturno','Uranio','Neptuno']\n",
    "\n",
    "nombre = input(\"Agrega un nombre empezando con mayuscula la primera letra: \")\n",
    "\n",
    "ubicacion = planetas.index(nombre)\n",
    "\n",
    "print(ubicacion)\n",
    "\n",
    "\n",
    "planetas_sol = planetas[0:ubicacion]\n",
    "\n",
    "print(planetas_sol)\n",
    "\n",
    "planetas_lejos = planetas[ubicacion + 1]\n",
    "\n",
    "print(planetas_lejos)\n"
   ]
  }
 ],
 "metadata": {
  "interpreter": {
   "hash": "e72130224f623da034c09a91a21ea4165cde1a798f1187b643c7852d74372b32"
  },
  "kernelspec": {
   "display_name": "Python 3.10.2 64-bit",
   "language": "python",
   "name": "python3"
  },
  "language_info": {
   "codemirror_mode": {
    "name": "ipython",
    "version": 3
   },
   "file_extension": ".py",
   "mimetype": "text/x-python",
   "name": "python",
   "nbconvert_exporter": "python",
   "pygments_lexer": "ipython3",
   "version": "3.10.2"
  },
  "orig_nbformat": 4
 },
 "nbformat": 4,
 "nbformat_minor": 2
}
