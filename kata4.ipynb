{
 "cells": [
  {
   "cell_type": "code",
   "execution_count": null,
   "metadata": {},
   "outputs": [],
   "source": []
  },
  {
   "cell_type": "markdown",
   "metadata": {},
   "source": [
    "### Ejercicio 1 transformar cadenas"
   ]
  },
  {
   "cell_type": "code",
   "execution_count": 2,
   "metadata": {},
   "outputs": [
    {
     "name": "stdout",
     "output_type": "stream",
     "text": [
      "Interesting facts about the Moon.\n",
      " The Moon is Earth's only satellite.\n",
      " There are several interesting facts about the Moon and how it affects life here on Earth. \n",
      "\n",
      "On average, the Moon moves 4cm away from the Earth every year.\n",
      " This yearly drift is not significant enough to cause immediate effects on Earth.\n",
      " The highest daylight temperature of the Moon is 127 C.\n",
      "\n"
     ]
    }
   ],
   "source": [
    "texto = \"\"\"Interesting facts about the Moon.\\n The Moon is Earth's only satellite.\\n There are several interesting facts about the Moon and how it affects life here on Earth. \\n\n",
    "On average, the Moon moves 4cm away from the Earth every year.\\n This yearly drift is not significant enough to cause immediate effects on Earth.\\n The highest daylight temperature of the Moon is 127 C.\\n\"\"\"\n",
    "\n",
    "print(texto)\n"
   ]
  },
  {
   "cell_type": "code",
   "execution_count": 5,
   "metadata": {},
   "outputs": [
    {
     "name": "stdout",
     "output_type": "stream",
     "text": [
      "167\n",
      "331\n",
      "-1\n",
      "-1\n"
     ]
    }
   ],
   "source": [
    "texto = \"\"\"Interesting facts about the Moon.\\n The Moon is Earth's only satellite.\\n There are several interesting facts about the Moon and how it affects life here on Earth. \\n\n",
    "On average, the Moon moves 4cm away from the Earth every year.\\n This yearly drift is not significant enough to cause immediate effects on Earth.\\n The highest daylight temperature of the Moon is 127 C.\\n\"\"\"\n",
    "\n",
    "print(texto.find('average'))\n",
    "print(texto.find('temperature'))\n",
    "print(texto.find('distance'))\n",
    "print(texto.find('kika'))\n"
   ]
  },
  {
   "cell_type": "markdown",
   "metadata": {},
   "source": [
    "creacion de un bucle para imprimirsolo datos sobre la luna que estan relacionadas con las palabras anteriores.\n"
   ]
  },
  {
   "cell_type": "code",
   "execution_count": 2,
   "metadata": {},
   "outputs": [
    {
     "name": "stdout",
     "output_type": "stream",
     "text": [
      "Interesting facts about the Moon.\n",
      " The Moon is Earth's only satellite.\n",
      " There are several interesting facts about the Moon and how it affects life here on Earth. \n",
      "\n",
      "On average, the Moon moves 4cm away from the Earth every year.\n",
      " This yearly drift is not significant enough to cause immediate effects on Earth.\n",
      " The highest daylight temperature of the Moon is 127 C.\n",
      "\n"
     ]
    }
   ],
   "source": [
    "texto = \"\"\"Interesting facts about the Moon.\\n The Moon is Earth's only satellite.\\n There are several interesting facts about the Moon and how it affects life here on Earth. \\n\n",
    "On average, the Moon moves 4cm away from the Earth every year.\\n This yearly drift is not significant enough to cause immediate effects on Earth.\\n The highest daylight temperature of the Moon is 127 C.\\n\"\"\"\n",
    "\n",
    "# Palabras clave\n",
    "palabra_clave = [\"average\", \"temperature\", \"distance\"]\n",
    "\n",
    "\n",
    "for item in texto.split('\\n'):\n",
    "    if item.find('average'):\n",
    "        print(item)\n",
    "\n",
    "# Ciclo para cambiar C a Celsius\n",
    "for sentence in texto:\n",
    "    for key_word in palabra_clave:\n",
    "        if key_word in sentence:\n",
    "            print(sentence.replace(' C', ' Celsius'))\n",
    "            break"
   ]
  },
  {
   "cell_type": "code",
   "execution_count": null,
   "metadata": {},
   "outputs": [],
   "source": [
    "\n",
    "    "
   ]
  },
  {
   "cell_type": "markdown",
   "metadata": {},
   "source": [
    "## Ejercicio 2 Formateando cadenas"
   ]
  },
  {
   "cell_type": "code",
   "execution_count": 22,
   "metadata": {},
   "outputs": [
    {
     "name": "stdout",
     "output_type": "stream",
     "text": [
      "La Luna Y La Tierra\n",
      "Caracteristica de la tierra : nombre del planeta: tierra, gravedad del planeta 1.6199999999999999 \n",
      "La Luna Y La TierraCaracteristica de la tierra : nombre del planeta: tierra, gravedad del planeta 1.6199999999999999 \n",
      "Caracteristica de la tierra : nombre del planeta: jupiter, gravedad del planeta 1.6199999999999999 \n",
      "Caracteristica de la tierra : nombre del planeta: jupiter, gravedad del planeta 1.6199999999999999 \n"
     ]
    }
   ],
   "source": [
    "#Datos con los que se van a trabajar\n",
    "nombre = \"luna\"\n",
    "gravedad = 0.00162 * 1000\n",
    "planeta = \"tierra\"\n",
    "\n",
    "titulo = 'la ' + nombre + ' y la '+ planeta\n",
    "print(titulo.title())\n",
    "\n",
    "#creacion de plantilla \n",
    "\n",
    "\n",
    "hecho = f'Caracteristica de la tierra : nombre del planeta: {planeta}, gravedad del planeta {gravedad} '\n",
    "\n",
    "\n",
    "print(hecho)\n",
    "\n",
    "#union de cadenas\n",
    "\n",
    "Union = titulo.title() + hecho\n",
    "print(Union)\n",
    "\n",
    "#nueva plantilla\n",
    "nombre = \"luna\"\n",
    "gravedad = 0.00162 * 1000\n",
    "planeta = \"jupiter\"\n",
    "\n",
    "hecho2 = f'Caracteristica de la tierra : nombre del planeta: {planeta}, gravedad del planeta {gravedad} '\n",
    "\n",
    "print(hecho2)\n",
    "\n",
    "print(hecho2.format(planeta=planeta, gravedad= gravedad))\n",
    "\n",
    "\n",
    "\n",
    "\n",
    "\n",
    "\n"
   ]
  }
 ],
 "metadata": {
  "interpreter": {
   "hash": "e72130224f623da034c09a91a21ea4165cde1a798f1187b643c7852d74372b32"
  },
  "kernelspec": {
   "display_name": "Python 3.10.2 64-bit",
   "language": "python",
   "name": "python3"
  },
  "language_info": {
   "codemirror_mode": {
    "name": "ipython",
    "version": 3
   },
   "file_extension": ".py",
   "mimetype": "text/x-python",
   "name": "python",
   "nbconvert_exporter": "python",
   "pygments_lexer": "ipython3",
   "version": "3.10.2"
  },
  "orig_nbformat": 4
 },
 "nbformat": 4,
 "nbformat_minor": 2
}
