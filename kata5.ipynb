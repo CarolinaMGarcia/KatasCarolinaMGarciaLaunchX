{
 "cells": [
  {
   "cell_type": "code",
   "execution_count": null,
   "metadata": {},
   "outputs": [],
   "source": []
  },
  {
   "cell_type": "markdown",
   "metadata": {},
   "source": [
    "## Ejercicio 1 - utilizar operadores aritmeticos\n",
    "#crear variables para almacenar las dos distancias"
   ]
  },
  {
   "cell_type": "code",
   "execution_count": 4,
   "metadata": {},
   "outputs": [
    {
     "name": "stdout",
     "output_type": "stream",
     "text": [
      "628949330\n",
      "390577533.93\n"
     ]
    }
   ],
   "source": [
    "distancia_tierra = 149597870;\n",
    "distancia_jupiter = 778547200;\n",
    "\n",
    "distancia_dos = abs(distancia_tierra - distancia_jupiter);\n",
    "\n",
    "print(distancia_dos);\n",
    "\n",
    "print(distancia_dos * 0.621)\n",
    "\n",
    "\n",
    "\n"
   ]
  },
  {
   "cell_type": "markdown",
   "metadata": {},
   "source": [
    "## Ejercicio 2: convierte cadenas en numeros y usa valores absolutos"
   ]
  },
  {
   "cell_type": "code",
   "execution_count": 15,
   "metadata": {},
   "outputs": [
    {
     "name": "stdout",
     "output_type": "stream",
     "text": [
      "10\n",
      "la distancia es millas es de 6.21371\n"
     ]
    }
   ],
   "source": [
    "distanciaTierra = input('introduzca la distancia de la tierra: ')\n",
    "distanciaMarte = input('Introduzca la distancia de martes')\n",
    "\n",
    "tierradistancia = int(distanciaTierra)\n",
    "martedistancia = int(distanciaMarte)\n",
    "\n",
    "distancia = abs(tierradistancia - martedistancia)\n",
    "print(distancia)\n",
    "\n",
    "distanciamillas = abs(distancia * 0.621371)\n",
    "\n",
    "print(\"la distancia es millas es de \" + str(distanciamillas))\n",
    "\n",
    "\n",
    "\n",
    "\n",
    "\n",
    "\n",
    "\n",
    "\n"
   ]
  }
 ],
 "metadata": {
  "interpreter": {
   "hash": "e72130224f623da034c09a91a21ea4165cde1a798f1187b643c7852d74372b32"
  },
  "kernelspec": {
   "display_name": "Python 3.10.2 64-bit",
   "language": "python",
   "name": "python3"
  },
  "language_info": {
   "codemirror_mode": {
    "name": "ipython",
    "version": 3
   },
   "file_extension": ".py",
   "mimetype": "text/x-python",
   "name": "python",
   "nbconvert_exporter": "python",
   "pygments_lexer": "ipython3",
   "version": "3.10.2"
  },
  "orig_nbformat": 4
 },
 "nbformat": 4,
 "nbformat_minor": 2
}
